{
 "cells": [
  {
   "cell_type": "code",
   "execution_count": 1,
   "metadata": {},
   "outputs": [],
   "source": [
    "import networkx as nx\n",
    "import numpy as np\n",
    "import pandas as pd\n",
    "import matplotlib.pyplot as plt\n",
    "%matplotlib inline"
   ]
  },
  {
   "cell_type": "markdown",
   "metadata": {},
   "source": [
    "1) Pre-processing - \n",
    "remove all edges with weight < 3 and all the nodes with degree 0"
   ]
  },
  {
   "cell_type": "code",
   "execution_count": 2,
   "metadata": {},
   "outputs": [],
   "source": [
    "### load the graph to var G\n",
    "G = nx.read_gexf('net_il2015-2018.gexf')\n",
    "### remove all edges with weight < 3\n",
    "edges_to_remove =[]\n",
    "for (u,v) in  G.edges:\n",
    "    if G.edges[u, v]['weight'] <3:\n",
    "        edges_to_remove.append([u,v])\n",
    "G.remove_edges_from(edges_to_remove)\n",
    "\n",
    "### remove all nodes with degree 0 \n",
    "nodes_to_remove =[]\n",
    "for u in G.nodes:\n",
    "    if G.degree(u)== 0:\n",
    "        nodes_to_remove.append(u)\n",
    "G.remove_nodes_from(nodes_to_remove)\n",
    "\n",
    "#print G.number_of_edges() \n",
    "#print G.number_of_nodes()"
   ]
  },
  {
   "cell_type": "markdown",
   "metadata": {},
   "source": [
    "2) calculate : clustering coefficient, diameter, density  \n",
    "[TODO: explain what we can infer from those Properties about our graph] "
   ]
  },
  {
   "cell_type": "code",
   "execution_count": 3,
   "metadata": {},
   "outputs": [
    {
     "name": "stdout",
     "output_type": "stream",
     "text": [
      "0.0783343040186\n",
      "4\n",
      "{'25': 0.5, '26': 0.14512195121951219, '27': 0.35555555555555557, '20': 0.20348837209302326, '21': 0.2857142857142857, '22': 0.25, '23': 0.30357142857142855, '28': 0.3790849673202614, '29': 0.44642857142857145, '4': 0.35454545454545455, '8': 0.15, '59': 0.2481060606060606, '58': 0.2636363636363636, '55': 0.3188405797101449, '54': 0.2857142857142857, '57': 0.08695652173913043, '56': 0.11818181818181818, '51': 0.5, '50': 0, '53': 0.2830687830687831, '52': 0.2803030303030303, '88': 0.17777777777777778, '89': 0.26785714285714285, '82': 0.2723076923076923, '80': 0, '81': 0.29044117647058826, '86': 0.2777777777777778, '87': 0.42857142857142855, '84': 0.3409090909090909, '85': 0, '3': 0.39285714285714285, '7': 0.22894736842105262, '108': 0.35, '109': 0.2619047619047619, '102': 0.2727272727272727, '103': 0.2916666666666667, '100': 0.1398989898989899, '101': 0.24183006535947713, '107': 0, '104': 0.3888888888888889, '39': 0, '38': 0.179421768707483, '33': 0.16666666666666666, '32': 0.245014245014245, '31': 0.2857142857142857, '30': 0.22758620689655173, '37': 0.16666666666666666, '36': 0.1581439393939394, '35': 0.29446640316205536, '34': 0.4, '60': 0.3593073593073593, '61': 0.19696969696969696, '62': 0.4166666666666667, '63': 0.1896551724137931, '65': 0.2361111111111111, '66': 0, '67': 0.32105263157894737, '68': 0.3131868131868132, '69': 0.23333333333333334, '2': 0.36538461538461536, '6': 0.5, '99': 0.24545454545454545, '98': 0.4107142857142857, '91': 0, '90': 0.017857142857142856, '93': 0.1453900709219858, '92': 0.23333333333333334, '95': 0.25, '97': 0.5, '96': 0.2777777777777778, '11': 0.16091954022988506, '10': 0.16666666666666666, '13': 0.5, '12': 0.2802197802197802, '15': 0.38095238095238093, '14': 0.19540229885057472, '17': 0.13817663817663817, '16': 0.5, '19': 0.0888937664618086, '18': 0.2943722943722944, '48': 0.2857142857142857, '49': 0.19772403982930298, '46': 0.5, '47': 0.2857142857142857, '44': 0.4, '45': 0.21428571428571427, '42': 0.26666666666666666, '43': 0.25, '40': 0.35714285714285715, '41': 0.2394736842105263, '1': 0.5, '5': 0.33636363636363636, '9': 0.5, '77': 0.34615384615384615, '76': 0.24182076813655762, '74': 0.30952380952380953, '73': 0.17777777777777778, '72': 0.20909090909090908, '71': 0.26666666666666666, '70': 0.35714285714285715, '79': 0.221505376344086, '78': 0.30952380952380953}\n"
     ]
    }
   ],
   "source": [
    "density = nx.density(G)\n",
    "print density \n",
    "udG = G.to_undirected()\n",
    "diameter = nx.diameter(udG)\n",
    "print diameter\n",
    "clustering_coefficient = nx.clustering(G)\n",
    "print clustering_coefficient"
   ]
  },
  {
   "cell_type": "markdown",
   "metadata": {},
   "source": [
    "3. find top-10 ministers for each Centralization degree that has been learned in class and describe what each degree means in the context of the current network :*indegree ; *outdegree ; *betweenness ; *closness "
   ]
  },
  {
   "cell_type": "code",
   "execution_count": 17,
   "metadata": {},
   "outputs": [
    {
     "name": "stdout",
     "output_type": "stream",
     "text": [
      "degree centrality \n",
      "indegree centrality \n"
     ]
    },
    {
     "data": {
      "text/plain": [
       "[('57', 0.6831683168316832),\n",
       " ('19', 0.6633663366336634),\n",
       " ('93', 0.46534653465346537),\n",
       " ('100', 0.42574257425742573),\n",
       " ('56', 0.40594059405940597),\n",
       " ('26', 0.36633663366336633),\n",
       " ('36', 0.297029702970297),\n",
       " ('38', 0.27722772277227725),\n",
       " ('30', 0.27722772277227725),\n",
       " ('32', 0.24752475247524752)]"
      ]
     },
     "execution_count": 17,
     "metadata": {},
     "output_type": "execute_result"
    }
   ],
   "source": [
    "degree_centrality = nx.degree_centrality(udG)\n",
    "print \"degree centrality \"\n",
    "sorted(degree_centrality.items() , key = lambda x :x[1] , reverse=True)[:10]"
   ]
  },
  {
   "cell_type": "code",
   "execution_count": 18,
   "metadata": {},
   "outputs": [
    {
     "name": "stdout",
     "output_type": "stream",
     "text": [
      "indegree centrality \n"
     ]
    },
    {
     "data": {
      "text/plain": [
       "[('57', 0.6831683168316832),\n",
       " ('19', 0.6633663366336634),\n",
       " ('93', 0.46534653465346537),\n",
       " ('100', 0.42574257425742573),\n",
       " ('56', 0.40594059405940597),\n",
       " ('26', 0.36633663366336633),\n",
       " ('36', 0.297029702970297),\n",
       " ('38', 0.27722772277227725),\n",
       " ('30', 0.27722772277227725),\n",
       " ('32', 0.24752475247524752)]"
      ]
     },
     "execution_count": 18,
     "metadata": {},
     "output_type": "execute_result"
    }
   ],
   "source": [
    "in_degree_centrality = nx.in_degree_centrality(G)\n",
    "print \"indegree centrality \"\n",
    "sorted(in_degree_centrality.items() , key = lambda x :x[1] , reverse=True)[:10]"
   ]
  },
  {
   "cell_type": "code",
   "execution_count": 19,
   "metadata": {},
   "outputs": [
    {
     "name": "stdout",
     "output_type": "stream",
     "text": [
      "outdegree centrality \n"
     ]
    },
    {
     "data": {
      "text/plain": [
       "[('20', 0.33663366336633666),\n",
       " ('53', 0.27722772277227725),\n",
       " ('82', 0.25742574257425743),\n",
       " ('35', 0.22772277227722773),\n",
       " ('108', 0.2079207920792079),\n",
       " ('38', 0.2079207920792079),\n",
       " ('69', 0.2079207920792079),\n",
       " ('41', 0.19801980198019803),\n",
       " ('22', 0.18811881188118812),\n",
       " ('49', 0.18811881188118812)]"
      ]
     },
     "execution_count": 19,
     "metadata": {},
     "output_type": "execute_result"
    }
   ],
   "source": [
    "out_degree_centrality = nx.out_degree_centrality(G)\n",
    "print \"outdegree centrality \"\n",
    "sorted(out_degree_centrality.items() , key = lambda x :x[1] , reverse=True)[:10]"
   ]
  },
  {
   "cell_type": "code",
   "execution_count": 22,
   "metadata": {},
   "outputs": [
    {
     "name": "stdout",
     "output_type": "stream",
     "text": [
      "closeness centrality \n"
     ]
    },
    {
     "data": {
      "text/plain": [
       "[('57', 0.7166031987814165),\n",
       " ('19', 0.6812824139556812),\n",
       " ('93', 0.5896913220733838),\n",
       " ('100', 0.5213536279001034),\n",
       " ('56', 0.5151734685663688),\n",
       " ('30', 0.4981477739610696),\n",
       " ('17', 0.4449342194493422),\n",
       " ('26', 0.41865436543654366),\n",
       " ('11', 0.3895753211684805),\n",
       " ('7', 0.36431307364313076)]"
      ]
     },
     "execution_count": 22,
     "metadata": {},
     "output_type": "execute_result"
    }
   ],
   "source": [
    "closeness_centrality = nx.closeness_centrality(G)\n",
    "print \"closeness centrality \"\n",
    "sorted(closeness_centrality.items() , key = lambda x :x[1] , reverse=True)[:10]"
   ]
  },
  {
   "cell_type": "code",
   "execution_count": 23,
   "metadata": {},
   "outputs": [
    {
     "name": "stdout",
     "output_type": "stream",
     "text": [
      "betweenness centrality \n"
     ]
    },
    {
     "data": {
      "text/plain": [
       "[('57', 0.7166031987814165),\n",
       " ('19', 0.6812824139556812),\n",
       " ('93', 0.5896913220733838),\n",
       " ('100', 0.5213536279001034),\n",
       " ('56', 0.5151734685663688),\n",
       " ('30', 0.4981477739610696),\n",
       " ('17', 0.4449342194493422),\n",
       " ('26', 0.41865436543654366),\n",
       " ('11', 0.3895753211684805),\n",
       " ('7', 0.36431307364313076)]"
      ]
     },
     "execution_count": 23,
     "metadata": {},
     "output_type": "execute_result"
    }
   ],
   "source": [
    "betweenness_centrality = nx.closeness_centrality(G)\n",
    "print \"betweenness centrality \"\n",
    "sorted(betweenness_centrality.items() , key = lambda x :x[1] , reverse=True)[:10]"
   ]
  },
  {
   "cell_type": "markdown",
   "metadata": {},
   "source": [
    "4.\tבדקו האם יש קורלציה  בין מדדי המרכזיות השונים, האם ניתן לזהות מקרים חריגים? נסו לתת הסברים מה יכול לגרום להבדלים אלו (גורמים אפשריים לדוגמה: שייכות מפלגתית, קואליציה/אופיזיציה, תפקיד הח\"כ (חבר ממשלה, יו\"ר ועדה בכנסת וכדומה)\n",
    "דרגת כניסה ודרגת יציאה, אולי באופוזיציה יש יותר הצעות חוק כדי לנסות להשפיע על משהו. "
   ]
  },
  {
   "cell_type": "code",
   "execution_count": null,
   "metadata": {},
   "outputs": [],
   "source": []
  },
  {
   "cell_type": "markdown",
   "metadata": {},
   "source": [
    "5.\tהאם ניתן למצוא קהילות  ברשת? הציגו סטטיסטיקות רלוונטיות לקהילות השונות, האם ניתן לזהות קשר בין הקהילות למאפיינים אמיתיים כמו השייכות המפלגתית או קואליציה/אופיזיציה – הציגו נתונים מספריים מתאימים. "
   ]
  },
  {
   "cell_type": "code",
   "execution_count": null,
   "metadata": {},
   "outputs": [],
   "source": []
  },
  {
   "cell_type": "markdown",
   "metadata": {},
   "source": [
    "6.\tבהמשך לנקודה הקודמת האם מצאתם שיוכי ח\"כים לקהילות שנראים  פחות הגיוניים? נסו לתת הסבר מדוע זה היה יכול לקרות לפי הקשרים בגרף."
   ]
  },
  {
   "cell_type": "code",
   "execution_count": null,
   "metadata": {},
   "outputs": [],
   "source": []
  },
  {
   "cell_type": "markdown",
   "metadata": {},
   "source": [
    "7.\tצרפו לדו\"ח תרשים של הרשת הממחיש את החלוקה לקהילות ואת אחד ממדדי המרכזיות לבחירתכם. הסבירו בקצרה את מבנה התרשים. "
   ]
  },
  {
   "cell_type": "code",
   "execution_count": null,
   "metadata": {},
   "outputs": [],
   "source": []
  },
  {
   "cell_type": "markdown",
   "metadata": {},
   "source": [
    "8.\tהשתמשו בשתי שיטותLink prediction  על מנת לזהות שיתופי פעולה פוטנציאלים עתידיים בין הח\"כים השונים. הציגו את שיתופי הפעולה הסבירים ביותר. תארו האם לדעתכם התוצאות הגיוניות? אילו פילטרים נוספים הייתם משלבים על-מנת לסנן חלק מהתחזיות?"
   ]
  },
  {
   "cell_type": "code",
   "execution_count": null,
   "metadata": {},
   "outputs": [],
   "source": []
  },
  {
   "cell_type": "markdown",
   "metadata": {},
   "source": [
    "9.\tצרפו לדו\"ח קובץ אקסל שבו לכל צומת יופיע שם הח\"כ, שייכות מפלגתית, תוצאות מדדיי המרכזיות והשייכות לקהילה בגרף"
   ]
  },
  {
   "cell_type": "code",
   "execution_count": null,
   "metadata": {},
   "outputs": [],
   "source": []
  },
  {
   "cell_type": "markdown",
   "metadata": {},
   "source": [
    "10.\tבמידה ותוכן הצעות החוק היה זמין לצרכי התרגיל – כיצד הייתם משתמשים במידע זה על מנת להעשיר את הניתוח. "
   ]
  },
  {
   "cell_type": "code",
   "execution_count": null,
   "metadata": {},
   "outputs": [],
   "source": []
  },
  {
   "cell_type": "markdown",
   "metadata": {},
   "source": [
    "11.\tבתרגיל זה מדדנו את הזיקה בין הח\"כים לפי הצעות החוק עליהם הם חתומים, חשבו על מקור נתונים אחר שממנו היה אפשר למדל את האינטקרציה בין הח\"כים בתור רשת. תארו את המשמעות של קשת בין שני ח\"כים ואת מאפייניה (האם היא מכוונת או לא, האם היא ממושקלת או לא, האם יש לה תכונות נוספות)."
   ]
  },
  {
   "cell_type": "code",
   "execution_count": null,
   "metadata": {},
   "outputs": [],
   "source": []
  }
 ],
 "metadata": {
  "kernelspec": {
   "display_name": "Python 2",
   "language": "python",
   "name": "python2"
  },
  "language_info": {
   "codemirror_mode": {
    "name": "ipython",
    "version": 2
   },
   "file_extension": ".py",
   "mimetype": "text/x-python",
   "name": "python",
   "nbconvert_exporter": "python",
   "pygments_lexer": "ipython2",
   "version": "2.7.16"
  }
 },
 "nbformat": 4,
 "nbformat_minor": 2
}
