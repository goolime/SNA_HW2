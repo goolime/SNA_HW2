{
 "cells": [
  {
   "cell_type": "code",
   "execution_count": null,
   "metadata": {},
   "outputs": [],
   "source": [
    "import networkx as nx\n",
    "import numpy as np\n",
    "import pandas as pd\n",
    "import matplotlib.pyplot as plt\n",
    "%matplotlib inline"
   ]
  },
  {
   "cell_type": "markdown",
   "metadata": {},
   "source": [
    "1. עיבוד מקדים - הורדת קשתות בעלות משקל נמוך מ3, והורדת קודקודים בעלי דרגות 0 "
   ]
  },
  {
   "cell_type": "code",
   "execution_count": null,
   "metadata": {},
   "outputs": [],
   "source": [
    "### load the graph to var G\n",
    "G = nx.read_gexf('net_il2015-2018.gexf')\n",
    "### remove all edges with weight < 3\n",
    "edges_to_remove =[]\n",
    "for (u,v) in  G.edges:\n",
    "    if G.edges[u, v]['weight'] <3:\n",
    "        edges_to_remove.append([u,v])\n",
    "G.remove_edges_from(edges_to_remove)\n",
    "\n",
    "### remove all nodes with degree 0 \n",
    "nodes_to_remove =[]\n",
    "for u in G.nodes:\n",
    "    if G.degree(u)== 0:\n",
    "        nodes_to_remove.append(u)\n",
    "G.remove_nodes_from(nodes_to_remove)\n",
    "\n",
    "print nx.info(G)"
   ]
  },
  {
   "cell_type": "code",
   "execution_count": null,
   "metadata": {},
   "outputs": [],
   "source": [
    "nx.draw_spring(G, with_labels=True)"
   ]
  },
  {
   "cell_type": "markdown",
   "metadata": {},
   "source": [
    "2.\tהציגו את מאפייני הגרף המרכזיים שנלמדו בכיתה (clustering coefficient, diameter, density וכדומה ). תארו בקצרה מה ניתן להסיק  ממאפיינים אלו?"
   ]
  },
  {
   "cell_type": "markdown",
   "metadata": {},
   "source": [
    "density = מעיד כמה אחוז מתוך תמיכה בהצעות חוק יש בכנסת. כלומר אם הערך הוא 1 זה אומר שכולם תומכים בהצעות של כולם.\n",
    "<br>\n",
    "diameter =\n",
    "<br>\n",
    "clustering coefficient = ערך זה הוא עבור כל קודקוד , והוא מעיד עבור כל ח\"כ X כמה תמיכה בהצעות חוק יש בין כל הח\"כים שתומכים בהצעה של X או שX תומך בהצעה שלהם. (כמה מתוכם תומכים גם אחד בשני, בלי קשר לX) "
   ]
  },
  {
   "cell_type": "code",
   "execution_count": null,
   "metadata": {},
   "outputs": [],
   "source": [
    "# represent the graph as undirected graph \n",
    "udG = G.to_undirected()\n",
    "\n",
    "density = nx.density(G)\n",
    "print 'density :' , density \n",
    "\n",
    "diameter = nx.diameter(udG)\n",
    "print 'diameter : ' , diameter\n",
    "clustering_coefficient = nx.clustering(G)\n",
    "print 'clustering coefficient :'\n",
    "sorted(clustering_coefficient.items())"
   ]
  },
  {
   "cell_type": "markdown",
   "metadata": {},
   "source": [
    "3.\tמצאו את הח\"כים המרכזיים ברשת באמצעות הפעלת מדדי המרכזיות השונים שנלמדו בכיתה. עבור כל מדד מרכזיות הציגו רשימה של ה-top10 של הצמתים המובילים והערכים שלהם. תארו בקצרה מה המשמעות כל מדד בהקשר של הרשת הנוכחית. שימו לב שוב שהקשתות מכוונות וממושקלות. \n",
    "indegree ; outdegree ; betweenness ; closness ; eigenvector"
   ]
  },
  {
   "cell_type": "markdown",
   "metadata": {},
   "source": [
    "indegree = מדד זה מעיד כמה תמיכה יש לכל ח\"כ, כלומר אם מדד זה גבוה זה אומר שח\"כ זה קיבל הרבה תמיכה מח\"כים שונים עבור הצעות חוק שהציע. \n",
    "<br>\n",
    "outdegree = מדד זה מעיד עבור כל ח\"כ כמה הוא תומך בהצעות חוק של ח\"כים אחרים. מדד גבוה- תומך במספר רב של הצעות חוק של ח\"כים שונים.\n",
    "<br>\n",
    "closness = מדד זה מעיד כמה כל ח\"כ קרוב לשאר חברי הכנסת. ככל שהוא מרכזי יותר כך הוא קרוב יותר לכולם, והמדד גבוה. \n",
    "<br>\n",
    "betweenness = מדד זה מעיד על כל קודקוד (ח\"כ) V , בכמה מסלולים הכי קצרים בין כל זוג קודקודים T ו S הוא מופיע. מדד גבוה יעיד לנו על ח\"כ שהוא יחסית מאוד מקושר להרבה ח\"כים אחרים או לחילופין שהוא מקשר בין כמה קליקות שונות.  \n",
    "eigenvector = מדד זה מעיד לכל ח\"כ כמה הוא מקושר לח\"כים מרכזיים. כלומר ככל שיותר ח\"כ בעלי מדדי מרכזיות גבוהיים יתמכו בו המדד הזה שלו יעלה. "
   ]
  },
  {
   "cell_type": "code",
   "execution_count": null,
   "metadata": {},
   "outputs": [],
   "source": [
    "in_degree_centrality = nx.in_degree_centrality(G)\n",
    "print \"indegree centrality\"\n",
    "sorted(in_degree_centrality.items() , key = lambda x :x[1] , reverse=True)[:10]"
   ]
  },
  {
   "cell_type": "code",
   "execution_count": null,
   "metadata": {},
   "outputs": [],
   "source": [
    "out_degree_centrality = nx.out_degree_centrality(G)\n",
    "print \"outdegree centrality \"\n",
    "sorted(out_degree_centrality.items() , key = lambda x :x[1] , reverse=True)[:10]"
   ]
  },
  {
   "cell_type": "code",
   "execution_count": null,
   "metadata": {},
   "outputs": [],
   "source": [
    "closeness_centrality = nx.closeness_centrality(G)\n",
    "print \"closeness centrality \"\n",
    "sorted(closeness_centrality.items() , key = lambda x :x[1] , reverse=True)[:10]"
   ]
  },
  {
   "cell_type": "code",
   "execution_count": null,
   "metadata": {},
   "outputs": [],
   "source": [
    "betweenness_centrality = nx.betweenness_centrality(G)\n",
    "print \"betweenness centrality \"\n",
    "sorted(betweenness_centrality.items() , key = lambda x :x[1] , reverse=True)[:10]"
   ]
  },
  {
   "cell_type": "code",
   "execution_count": null,
   "metadata": {},
   "outputs": [],
   "source": [
    "eigenvector_centrality = nx.eigenvector_centrality(udG)\n",
    "print \"eigenvector centrality \"\n",
    "sorted(eigenvector_centrality.items() , key = lambda x :x[1] , reverse=True)[:10]"
   ]
  },
  {
   "cell_type": "markdown",
   "metadata": {},
   "source": [
    "4.\tבדקו האם יש קורלציה  בין מדדי המרכזיות השונים, האם ניתן לזהות מקרים חריגים? נסו לתת הסברים מה יכול לגרום להבדלים אלו (גורמים אפשריים לדוגמה: שייכות מפלגתית, קואליציה/אופיזיציה, תפקיד הח\"כ (חבר ממשלה, יו\"ר ועדה בכנסת וכדומה)"
   ]
  },
  {
   "cell_type": "markdown",
   "metadata": {},
   "source": [
    "אפשר לראות קורלציה בין מדד הIndegree לבין מדד הcloseness.\n",
    "המשמעות של קורלציה זו היא שח\"כים מסויימים מהווים נקודת מפתח עבור תמיכה של ח\"כים נוספים, כלומר תמיכתם בהצעה X משמעותה תמיכה של ח\"כים נוספים באותה ההצעה."
   ]
  },
  {
   "cell_type": "markdown",
   "metadata": {},
   "source": [
    "5.\tהאם ניתן למצוא קהילות  ברשת? הציגו סטטיסטיקות רלוונטיות לקהילות השונות, האם ניתן לזהות קשר בין הקהילות למאפיינים אמיתיים כמו השייכות המפלגתית או קואליציה/אופיזיציה – הציגו נתונים מספריים מתאימים. "
   ]
  },
  {
   "cell_type": "code",
   "execution_count": null,
   "metadata": {},
   "outputs": [],
   "source": []
  },
  {
   "cell_type": "markdown",
   "metadata": {},
   "source": [
    "6.\tבהמשך לנקודה הקודמת האם מצאתם שיוכי ח\"כים לקהילות שנראים  פחות הגיוניים? נסו לתת הסבר מדוע זה היה יכול לקרות לפי הקשרים בגרף."
   ]
  },
  {
   "cell_type": "code",
   "execution_count": null,
   "metadata": {},
   "outputs": [],
   "source": []
  },
  {
   "cell_type": "markdown",
   "metadata": {},
   "source": [
    "7.\tצרפו לדו\"ח תרשים של הרשת הממחיש את החלוקה לקהילות ואת אחד ממדדי המרכזיות לבחירתכם. הסבירו בקצרה את מבנה התרשים. "
   ]
  },
  {
   "cell_type": "code",
   "execution_count": null,
   "metadata": {},
   "outputs": [],
   "source": []
  },
  {
   "cell_type": "markdown",
   "metadata": {},
   "source": [
    "8.\tהשתמשו בשתי שיטותLink prediction  על מנת לזהות שיתופי פעולה פוטנציאלים עתידיים בין הח\"כים השונים. הציגו את שיתופי הפעולה הסבירים ביותר. תארו האם לדעתכם התוצאות הגיוניות? אילו פילטרים נוספים הייתם משלבים על-מנת לסנן חלק מהתחזיות?"
   ]
  },
  {
   "cell_type": "code",
   "execution_count": null,
   "metadata": {},
   "outputs": [],
   "source": [
    "preds_pa = nx.preferential_attachment(udG)\n",
    "\n",
    "pred_pa_dict = {}\n",
    "for u, v, p in preds_pa:\n",
    "    pred_pa_dict[(u,v)] = p\n",
    "\n",
    "sorted(pred_pa_dict.items(), key=lambda x:x[1], reverse=True)[:10]"
   ]
  },
  {
   "cell_type": "code",
   "execution_count": null,
   "metadata": {},
   "outputs": [],
   "source": [
    "preds_aa = nx.adamic_adar_index(udG)\n",
    "\n",
    "pred_aa_dict = {}\n",
    "for u, v, p in preds_aa:\n",
    "    pred_aa_dict[(u,v)] = p\n",
    "\n",
    "sorted(pred_aa_dict.items(), key=lambda x:x[1], reverse=True)[:10]"
   ]
  },
  {
   "cell_type": "markdown",
   "metadata": {},
   "source": [
    "הקשרים שחוזרים על עצמם בין התוצאות: <br> \n",
    "[הדירוג שמופיע ברשימה 1 : הדירוג שמופיע ברשימה 2]  (מספר קודקוד א'{שם ח\"כ} ,מספר קודקוד ב' {שם ח\"כ} )  <br> \n",
    "[1 ,1] (19 {דוד ביטן} , 57 {מירי רגב} ) <br>\n",
    "[2 ,2] (19 {דוד ביטן} , 93 {יריב לוין} ) <br>\n",
    "[3 ,4] (26 {אלי אללוף} , 57 {מירי רגב} ) <br>\n",
    "[4 ,10] (93 {יריב לוין},  26 {אלי אללוף} ) <br>\n",
    "[5 ,3] (100 {יואב קיש} , 57 {מירי רגב} ) <br>\n",
    "[7 ,7] (19 {דוד ביטן} , 79 {סתיו שפיר} ) <br>\n",
    "[8 ,5] (19 {דוד ביטן} , 36 {יצחק הרצוג} ) <br>\n",
    "ניתן לראות שני קישורים שלא ניראים הגיוניים- שהם סתיו שפיר ודוד ביטן ושל יצחק הרצוג ודוד ביטן. פילטר נוסף שהיינו מוסיפים הוא של קואליצה/אופוזיציה או של ימין/שמאל. יתכן כי במידה והיינו מוסיפים פילטרים אלו היינו נמנעים מחיזוי קשרים אלו."
   ]
  },
  {
   "cell_type": "markdown",
   "metadata": {},
   "source": [
    "9.\tצרפו לדו\"ח קובץ אקסל שבו לכל צומת יופיע שם הח\"כ, שייכות מפלגתית, תוצאות מדדיי המרכזיות והשייכות לקהילה בגרף"
   ]
  },
  {
   "cell_type": "code",
   "execution_count": null,
   "metadata": {},
   "outputs": [],
   "source": [
    "def Extract(lst , i): \n",
    "    return [item[i] for item in lst] \n",
    "\n",
    "def Extract_info(lst , string): \n",
    "    return [item[1][string] for item in lst] \n",
    "\n",
    "in_degree = sorted(in_degree_centrality.items())\n",
    "out_degree = sorted(out_degree_centrality.items())\n",
    "between = sorted(betweenness_centrality.items())\n",
    "close = sorted(closeness_centrality.items())\n",
    "eigen = sorted(eigenvector_centrality.items())\n",
    "nodes_data = sorted(list(G.nodes.data()))\n",
    "\n",
    "df = pd.DataFrame({'node number': Extract(nodes_data,0) ,\n",
    "                   'in degree': Extract(in_degree,1) ,\n",
    "                   'out degree': Extract(out_degree,1) ,\n",
    "                   'betweenness': Extract(between,1) ,\n",
    "                   'closeness': Extract(close,1) ,\n",
    "                   'eigenvector': Extract(eigen,1) ,\n",
    "                   'minister name' : Extract_info (nodes_data ,'label') ,\n",
    "                   'party' : Extract_info (nodes_data ,'party') #, TODO: add the partition \n",
    "                  })\n",
    "writer = pd.ExcelWriter('Report.xlsx', engine='xlsxwriter')\n",
    "df.to_excel(writer, sheet_name='Sheet1', index=False)\n",
    "writer.save()"
   ]
  },
  {
   "cell_type": "markdown",
   "metadata": {},
   "source": [
    "10.\tבמידה ותוכן הצעות החוק היה זמין לצרכי התרגיל – כיצד הייתם משתמשים במידע זה על מנת להעשיר את הניתוח. "
   ]
  },
  {
   "cell_type": "markdown",
   "metadata": {},
   "source": [
    "ניתן היה להוסיף ניתוחים על בסיס נושאי הצעות החוק לדוגמה- חוקים חברתיים , כלכליים וכו'. ניתוח כזה מאפשר לח\"כים מידע מי מהח\"כים יתמוך בהצעה זו ועל כן יפנו אליו במידה וירצו להעביר חוק בנושא מסויים."
   ]
  },
  {
   "cell_type": "markdown",
   "metadata": {},
   "source": [
    "11.\tבתרגיל זה מדדנו את הזיקה בין הח\"כים לפי הצעות החוק עליהם הם חתומים, חשבו על מקור נתונים אחר שממנו היה אפשר למדל את האינטקרציה בין הח\"כים בתור רשת. תארו את המשמעות של קשת בין שני ח\"כים ואת מאפייניה (האם היא מכוונת או לא, האם היא ממושקלת או לא, האם יש לה תכונות נוספות)."
   ]
  },
  {
   "cell_type": "markdown",
   "metadata": {},
   "source": [
    "פעילות בטוויטר - כל ח\"כ יהווה קודקוד וקשת בין שני ח\"כים תהווה התקשרות בינהם:\n",
    "<br>\n",
    "מקרה 1: ח\"כ א' הזכיר את ח\"כ ב' בציוץ שהוא כתב יהווה קשת מכוונת בין א' לב'.\n",
    "<br>\n",
    "מקרה 2: ח\"כ א' הגיב לח\"כ ב' על ציוץ יהווה קשת מכוונת בין א לב'.\n",
    "<br>\n",
    "שני המקרים יסכמו למשקל הקשת בין ח\"כ א' לח\"כ ב'. "
   ]
  },
  {
   "cell_type": "code",
   "execution_count": null,
   "metadata": {},
   "outputs": [],
   "source": []
  },
  {
   "cell_type": "code",
   "execution_count": null,
   "metadata": {},
   "outputs": [],
   "source": []
  }
 ],
 "metadata": {
  "kernelspec": {
   "display_name": "Python 2",
   "language": "python",
   "name": "python2"
  },
  "language_info": {
   "codemirror_mode": {
    "name": "ipython",
    "version": 2
   },
   "file_extension": ".py",
   "mimetype": "text/x-python",
   "name": "python",
   "nbconvert_exporter": "python",
   "pygments_lexer": "ipython2",
   "version": "2.7.16"
  }
 },
 "nbformat": 4,
 "nbformat_minor": 2
}
